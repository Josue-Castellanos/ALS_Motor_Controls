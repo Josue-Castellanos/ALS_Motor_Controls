{
 "cells": [
  {
   "cell_type": "code",
   "execution_count": null,
   "metadata": {},
   "outputs": [],
   "source": [
    "import jckcube\n",
    "import jcflir\n",
    "import ctypes\n",
    "import sys\n",
    "\n",
    "try:\n",
    "    # Usage example\n",
    "    serial_no_x = str('27263196')\n",
    "    serial_no_y = str('27263127') \n",
    "    serial_no_z = str('28252438')  \n",
    "\n",
    "    \n",
    "    cam = jcflir.Camera()\n",
    "    cam.ConnectCamera()\n",
    "    cam.AcquireImage()\n",
    "    cam.DisconnectCamera()\n",
    "    # mask_motor = jckcube.MaskMotor(serial_no_x, serial_no_y, serial_no_z)\n",
    "    # mask_motor.ConnectAllMotors()\n",
    "    \n",
    "    # mask_motor.ForwardJogMotor()\n",
    "    # mask_motor.SetAllParameters(step_size=0.050) # millimeters\n",
    "\n",
    "    # # Move all motors to specified positions\n",
    "    # position_x = 21.84173 # Target position for X axis in device units\n",
    "    # position_y = 20.60000  # Target position for Y axis in device units\n",
    "    # position_z = 5.00000  # Target position for Z axis in device units\n",
    "    # mask_motor.MoveAllMotors(position_x, position_y, position_z)\n",
    "\n",
    "    # mask_motor.JogAllMotors()\n",
    "\n",
    "    # Disconnect all motors\n",
    "    # mask_motor.DisconnectAllMotors()\n",
    "except Exception as e:\n",
    "    print(e)"
   ]
  }
 ],
 "metadata": {
  "kernelspec": {
   "display_name": ".venv",
   "language": "python",
   "name": "python3"
  },
  "language_info": {
   "codemirror_mode": {
    "name": "ipython",
    "version": 3
   },
   "file_extension": ".py",
   "mimetype": "text/x-python",
   "name": "python",
   "nbconvert_exporter": "python",
   "pygments_lexer": "ipython3",
   "version": "3.10.0"
  }
 },
 "nbformat": 4,
 "nbformat_minor": 2
}
